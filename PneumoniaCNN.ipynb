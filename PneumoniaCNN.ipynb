{
  "nbformat": 4,
  "nbformat_minor": 0,
  "metadata": {
    "colab": {
      "name": "PneumoniaCNN.ipynb",
      "provenance": [],
      "include_colab_link": true
    },
    "kernelspec": {
      "name": "python3",
      "display_name": "Python 3"
    },
    "accelerator": "GPU"
  },
  "cells": [
    {
      "cell_type": "markdown",
      "metadata": {
        "id": "view-in-github",
        "colab_type": "text"
      },
      "source": [
        "<a href=\"https://colab.research.google.com/github/AndyyZhu/PneumoniaDetectionModel/blob/master/PneumoniaCNN.ipynb\" target=\"_parent\"><img src=\"https://colab.research.google.com/assets/colab-badge.svg\" alt=\"Open In Colab\"/></a>"
      ]
    },
    {
      "cell_type": "code",
      "metadata": {
        "id": "aRA7QCqh1M8R",
        "colab_type": "code",
        "colab": {}
      },
      "source": [
        "from google.colab import drive\n",
        "drive.mount('/content/drive')"
      ],
      "execution_count": 0,
      "outputs": []
    },
    {
      "cell_type": "code",
      "metadata": {
        "id": "ogzD-kLxTBeL",
        "colab_type": "code",
        "colab": {}
      },
      "source": [
        "!unzip '/content/drive/My Drive/chest-xray-pneumonia.zip'"
      ],
      "execution_count": 0,
      "outputs": []
    },
    {
      "cell_type": "code",
      "metadata": {
        "id": "lhrYexqC2FIL",
        "colab_type": "code",
        "colab": {}
      },
      "source": [
        "from keras.preprocessing.image import ImageDataGenerator\n",
        "from keras.models import Sequential\n",
        "from keras.layers import Conv2D, MaxPooling2D\n",
        "from keras.layers import Activation, Dropout, Flatten, Dense\n",
        "from keras import backend as K"
      ],
      "execution_count": 0,
      "outputs": []
    },
    {
      "cell_type": "code",
      "metadata": {
        "id": "Ki9s6f-V5BQQ",
        "colab_type": "code",
        "colab": {}
      },
      "source": [
        "image_height = 150\n",
        "image_width = 150\n",
        "training_data = '/content/output/train'\n",
        "validation_data = '/content/output/val'\n",
        "num_train_samples = 5216\n",
        "num_validation_samples = 624\n",
        "epochs = 50\n",
        "batch_size = 16"
      ],
      "execution_count": 0,
      "outputs": []
    },
    {
      "cell_type": "code",
      "metadata": {
        "id": "VzjXCwt5J9hi",
        "colab_type": "code",
        "colab": {}
      },
      "source": [
        "model = Sequential()\n",
        "model.add(Conv2D(32, (3, 3), input_shape=(image_height, image_width, 3)))\n",
        "model.add(Activation('relu'))\n",
        "model.add(MaxPooling2D(pool_size=(2, 2)))\n",
        "\n",
        "model.add(Conv2D(32, (3, 3)))\n",
        "model.add(Activation('relu'))\n",
        "model.add(MaxPooling2D(pool_size=(2, 2)))\n",
        "\n",
        "model.add(Conv2D(64, (3, 3)))\n",
        "model.add(Activation('relu'))\n",
        "model.add(MaxPooling2D(pool_size=(2, 2)))\n",
        "\n",
        "model.add(Flatten())\n",
        "model.add(Dense(64))\n",
        "model.add(Activation('relu'))\n",
        "model.add(Dropout(0.5))\n",
        "model.add(Dense(1))\n",
        "model.add(Activation('sigmoid'))\n",
        "\n",
        "model.compile(loss='binary_crossentropy',\n",
        "              optimizer='rmsprop',\n",
        "              metrics=['accuracy'])"
      ],
      "execution_count": 0,
      "outputs": []
    },
    {
      "cell_type": "code",
      "metadata": {
        "id": "1vdf7OKYTQkn",
        "colab_type": "code",
        "outputId": "c93e051e-5df5-45f9-8337-4962f6e4efc4",
        "colab": {
          "base_uri": "https://localhost:8080/",
          "height": 51
        }
      },
      "source": [
        "train_datagen = ImageDataGenerator(\n",
        "    rescale=1./255,\n",
        "        shear_range=0.2,\n",
        "        zoom_range=0.2,\n",
        "        horizontal_flip=True)\n",
        "\n",
        "test_datagen = ImageDataGenerator(rescale=1./255)\n",
        "\n",
        "train_generator = train_datagen.flow_from_directory(\n",
        "        '/content/chest_xray/train', \n",
        "        target_size=(150, 150), \n",
        "        batch_size=batch_size,\n",
        "        class_mode='binary') \n",
        "\n",
        "validation_generator = test_datagen.flow_from_directory(\n",
        "        '/content/chest_xray/val',\n",
        "        target_size=(150, 150),\n",
        "        batch_size=batch_size,\n",
        "        class_mode='binary')"
      ],
      "execution_count": 14,
      "outputs": [
        {
          "output_type": "stream",
          "text": [
            "Found 5216 images belonging to 2 classes.\n",
            "Found 624 images belonging to 2 classes.\n"
          ],
          "name": "stdout"
        }
      ]
    },
    {
      "cell_type": "code",
      "metadata": {
        "id": "TJxeZ_G_B4D0",
        "colab_type": "code",
        "outputId": "9bcaacf7-8cd5-468f-d126-0c6f961b305d",
        "colab": {
          "base_uri": "https://localhost:8080/",
          "height": 394
        }
      },
      "source": [
        "model.fit_generator(\n",
        "    train_generator,\n",
        "    steps_per_epoch=num_train_samples // batch_size,\n",
        "    epochs=10,\n",
        "    validation_data=validation_generator,\n",
        "    validation_steps=num_validation_samples // batch_size)"
      ],
      "execution_count": 16,
      "outputs": [
        {
          "output_type": "stream",
          "text": [
            "Epoch 1/10\n",
            "326/326 [==============================] - 74s 226ms/step - loss: 0.1903 - acc: 0.9360 - val_loss: 1.1290 - val_acc: 0.8349\n",
            "Epoch 2/10\n",
            "326/326 [==============================] - 71s 218ms/step - loss: 0.1994 - acc: 0.9340 - val_loss: 0.8678 - val_acc: 0.8221\n",
            "Epoch 3/10\n",
            "326/326 [==============================] - 71s 217ms/step - loss: 0.1917 - acc: 0.9373 - val_loss: 0.7002 - val_acc: 0.8413\n",
            "Epoch 4/10\n",
            "326/326 [==============================] - 71s 217ms/step - loss: 0.1920 - acc: 0.9377 - val_loss: 2.1359 - val_acc: 0.7067\n",
            "Epoch 5/10\n",
            "326/326 [==============================] - 71s 218ms/step - loss: 0.1929 - acc: 0.9333 - val_loss: 1.1131 - val_acc: 0.8189\n",
            "Epoch 6/10\n",
            "326/326 [==============================] - 71s 218ms/step - loss: 0.2016 - acc: 0.9325 - val_loss: 0.7009 - val_acc: 0.8173\n",
            "Epoch 7/10\n",
            "326/326 [==============================] - 71s 217ms/step - loss: 0.1898 - acc: 0.9346 - val_loss: 0.5905 - val_acc: 0.8878\n",
            "Epoch 8/10\n",
            "326/326 [==============================] - 71s 218ms/step - loss: 0.1816 - acc: 0.9383 - val_loss: 1.3393 - val_acc: 0.8061\n",
            "Epoch 9/10\n",
            "326/326 [==============================] - 71s 218ms/step - loss: 0.2030 - acc: 0.9390 - val_loss: 0.6330 - val_acc: 0.8510\n",
            "Epoch 10/10\n",
            "326/326 [==============================] - 71s 217ms/step - loss: 0.1957 - acc: 0.9379 - val_loss: 0.3774 - val_acc: 0.9022\n"
          ],
          "name": "stdout"
        },
        {
          "output_type": "execute_result",
          "data": {
            "text/plain": [
              "<keras.callbacks.History at 0x7f61637d8748>"
            ]
          },
          "metadata": {
            "tags": []
          },
          "execution_count": 16
        }
      ]
    },
    {
      "cell_type": "code",
      "metadata": {
        "id": "0dQIQL2uDPEe",
        "colab_type": "code",
        "colab": {}
      },
      "source": [
        "model.save_weights(\"PneumoniaCNN2.h5\")"
      ],
      "execution_count": 0,
      "outputs": []
    }
  ]
}